{
 "cells": [
  {
   "cell_type": "markdown",
   "metadata": {},
   "source": [
    "# 16 Classification Task dengan Random Forest\n",
    "Referensi: https://en.wikipedia.org/wiki/Random_forest"
   ]
  },
  {
   "cell_type": "markdown",
   "metadata": {},
   "source": [
    "## General ML Model Training\n",
    "<img src='https://raw.githubusercontent.com/boedybios/belajar_scikit_learn/0df1c29ff80671842b582c8160801643d31f067c/images/general_ML_model_training.png' style='width:350px;height:200px'/>\n",
    "\n",
    "- Proses training selalu diawali dengan training set yang terdiri dari sekumpulan `X_train` dan `y_train`,\n",
    "    - **Training Set** digunakan untuk melakukan training model machine learning dan model yang sudah ditraining dikenal dengan istilah `Trained Model`\n",
    "    - **Trainind Model** akan digunakan untuk melakukan prediksi terhadap sekumpulan nilai features yang baru, \n",
    "            \n",
    "         - **X_new** merepresentasikan sebagai sekumpulan nilai features baru\n",
    "         - **y_pred** merepresentasikan hasil prediksi dari trained model"
   ]
  },
  {
   "cell_type": "markdown",
   "metadata": {},
   "source": [
    "## Ensemble Learning: heterogeneous & homogeneous\n",
    "Referensi: https://en.wikipedia.org/wiki/Ensemble_learning\n",
    "\n",
    "<img src='https://raw.githubusercontent.com/boedybios/belajar_scikit_learn/0df1c29ff80671842b582c8160801643d31f067c/images/ensemble_learning.png' style='width:500px;height:350px'/>\n",
    "\n",
    "- **Ensemble learning**, suatu teknik yang dikenal dalam machine learning dimana menggabungkan beberapa model untuk melakukan prediksi\n",
    "- Ensemble learning diawali juga training set, hanya saja training set yang tersedia akan digunakan untuk mentraining beberapa model\n",
    "- Terdapat 3 model machine learning yang akan ditraining, yaitu\n",
    "    - **KNN**\n",
    "    - **SVM**\n",
    "    - **Decision Tree**\n",
    "- Dari training tersebut menghasilkan 3 trained model, \n",
    "    - Setiap trained model tersebut akan digunakan untuk melakukan prediksi terhadap sekumpulan nilai features yang baru dimana prediksi yang dihasilkan oleh setiap trained model tersebut direpresentasikan sebagai `y_pred 1`, `y_pred 2`, dan `y_pred 3`\n",
    "- **Majority Voting** merupakan suatu mekanisme yang menyatukan hasil prediksi yang lebih dari satu,\n",
    "    - Pada kasus regression task dilakukan dengan menggunakan nilai mean/rata-rata \n",
    "    - Pada kasus classification task, majority voting dicapai dengan menerapkan mode atau kemunculan terbanyak\n",
    "- Memadukan sejumlah model machine learning yang berbeda sering dikenal sebagai **Heterogeneous Ensemble Learning**\n",
    "- Memadukan sejumlah model machine learning sejenis dikenal dengan **Homogeneous Ensemble Learning**"
   ]
  },
  {
   "cell_type": "markdown",
   "metadata": {},
   "source": [
    "## Bagging: Bootstrap Aggregating\n",
    "Referensi: https://en.wikipedia.org/wiki/Bootstrap_aggregating\n",
    "\n",
    "<img src='https://raw.githubusercontent.com/boedybios/belajar_scikit_learn/0df1c29ff80671842b582c8160801643d31f067c/images/bagging.png' style='width:500px;height:350px'/>\n",
    "\n",
    "- Memadukan sejumlah model machine learning yang sejenis dan menggunakan algoritma yang sama\n",
    "- Mekanisme **Bagging** atau **Bootstrap Aggregating** pada dasarnya menerapkan proses random sampling with replacement terhadap training set yang dimiliki dan akan menghasilkan beberapa training set baru sejumlah model yang akan ditraining\n",
    "    - **Bag** merupakan training set baru yang dihasilkan oleh proses begging\n",
    "    - Ketiga bag tersebut berisi sekumpulan sample data yang berbeda satu dengan lainnya, karena bag tersebut dihasilkan dari proses **random sampling with replacement** yang diambil dari training set"
   ]
  },
  {
   "cell_type": "markdown",
   "metadata": {},
   "source": [
    "## Random Forest\n",
    "Referensi: https://en.wikipedia.org/wiki/Random_forest\n",
    "\n",
    "<img src='https://raw.githubusercontent.com/boedybios/belajar_scikit_learn/0df1c29ff80671842b582c8160801643d31f067c/images/random_forest.png' style='width:500px;height:350px'/>\n",
    "\n",
    "- **Random Forest** merupakan implementasi dari homogenous ensemble learning yang menerapkan decision tree\n",
    "- Random forest terbentuk dari sekumpulan decision tree \n",
    "- Setiap **Bag** yang dihasilkan akan mengadopsi sejumlah features yang dipilih secara acak dari training set sumbernya"
   ]
  },
  {
   "cell_type": "markdown",
   "metadata": {},
   "source": [
    "### Dataset\n",
    "Referensi: https://en.wikipedia.org/wiki/Iris_flower_data_set"
   ]
  },
  {
   "cell_type": "code",
   "execution_count": 1,
   "metadata": {},
   "outputs": [
    {
     "name": "stderr",
     "output_type": "stream",
     "text": [
      "<frozen importlib._bootstrap>:219: RuntimeWarning: numpy.ufunc size changed, may indicate binary incompatibility. Expected 192 from C header, got 216 from PyObject\n"
     ]
    },
    {
     "name": "stdout",
     "output_type": "stream",
     "text": [
      "Dimensi Feature: (150, 4)\n",
      "Class: {0, 1, 2}\n"
     ]
    }
   ],
   "source": [
    "from sklearn.datasets import load_iris\n",
    "\n",
    "X, y = load_iris(return_X_y=True)\n",
    "\n",
    "print(f'Dimensi Feature: {X.shape}')\n",
    "print(f'Class: {set(y)}')"
   ]
  },
  {
   "cell_type": "code",
   "execution_count": 2,
   "metadata": {},
   "outputs": [],
   "source": [
    "from sklearn.model_selection import train_test_split\n",
    "\n",
    "X_train, X_test, y_train, y_test = train_test_split(X,\n",
    "                                                    y,\n",
    "                                                    test_size=0.3,\n",
    "                                                    random_state=0)"
   ]
  },
  {
   "cell_type": "markdown",
   "metadata": {},
   "source": [
    "## Classification dengan `RandomForestClassifier`"
   ]
  },
  {
   "cell_type": "code",
   "execution_count": 3,
   "metadata": {},
   "outputs": [
    {
     "data": {
      "text/plain": [
       "RandomForestClassifier(random_state=0)"
      ]
     },
     "execution_count": 3,
     "metadata": {},
     "output_type": "execute_result"
    }
   ],
   "source": [
    "from sklearn.ensemble import RandomForestClassifier\n",
    "\n",
    "model = RandomForestClassifier(n_estimators=100,\n",
    "                               random_state=0)\n",
    "\n",
    "model.fit(X_train, y_train)"
   ]
  },
  {
   "cell_type": "markdown",
   "metadata": {},
   "source": [
    "## Evaluasi Model"
   ]
  },
  {
   "cell_type": "code",
   "execution_count": 4,
   "metadata": {},
   "outputs": [
    {
     "name": "stdout",
     "output_type": "stream",
     "text": [
      "              precision    recall  f1-score   support\n",
      "\n",
      "           0       1.00      1.00      1.00        16\n",
      "           1       1.00      0.94      0.97        18\n",
      "           2       0.92      1.00      0.96        11\n",
      "\n",
      "    accuracy                           0.98        45\n",
      "   macro avg       0.97      0.98      0.98        45\n",
      "weighted avg       0.98      0.98      0.98        45\n",
      "\n"
     ]
    }
   ],
   "source": [
    "from sklearn.metrics import classification_report\n",
    "\n",
    "y_pred = model.predict(X_test)\n",
    "\n",
    "print(classification_report(y_test, y_pred))"
   ]
  }
 ],
 "metadata": {
  "hide_input": false,
  "kernelspec": {
   "display_name": "Python 3",
   "language": "python",
   "name": "python3"
  },
  "language_info": {
   "codemirror_mode": {
    "name": "ipython",
    "version": 3
   },
   "file_extension": ".py",
   "mimetype": "text/x-python",
   "name": "python",
   "nbconvert_exporter": "python",
   "pygments_lexer": "ipython3",
   "version": "3.8.5"
  }
 },
 "nbformat": 4,
 "nbformat_minor": 4
}
